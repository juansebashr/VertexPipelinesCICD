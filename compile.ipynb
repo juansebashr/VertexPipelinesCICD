{
 "cells": [
  {
   "cell_type": "markdown",
   "metadata": {
    "pycharm": {
     "name": "#%% md\n"
    }
   },
   "source": [
    "# Setup Vertex Pipelines"
   ]
  },
  {
   "cell_type": "code",
   "execution_count": null,
   "outputs": [],
   "source": [
    "PROJECT_ID = 'Here is your project ID'\n",
    "BUCKET_NAME = \"Here is your bucket name\"\n",
    "REGION=\"Region\"\n",
    "\n",
    "PIPELINE_ROOT = f\"{BUCKET_NAME}/POC/\"\n",
    "print(PIPELINE_ROOT)"
   ],
   "metadata": {
    "collapsed": false,
    "pycharm": {
     "name": "#%%\n",
     "is_executing": true
    }
   }
  },
  {
   "cell_type": "markdown",
   "metadata": {
    "pycharm": {
     "name": "#%% md\n"
    }
   },
   "source": [
    "# Define the pipeline"
   ]
  },
  {
   "cell_type": "code",
   "execution_count": 2,
   "metadata": {
    "tags": [],
    "pycharm": {
     "name": "#%%\n"
    }
   },
   "outputs": [],
   "source": [
    "from kfp import components\n",
    "from kfp.v2 import compiler, dsl\n",
    "from kfp.v2.dsl import pipeline, component, Artifact, Dataset, Input, Metrics, Model, Output, InputPath, OutputPath\n",
    "from google.oauth2 import service_account\n",
    "from google.cloud import aiplatform\n",
    "from datetime import datetime"
   ]
  },
  {
   "cell_type": "code",
   "execution_count": 3,
   "outputs": [
    {
     "name": "stdout",
     "output_type": "stream",
     "text": [
      "Help on function Concat strings:\n",
      "\n",
      "Concat strings(parameter_1: str, parameter_2: str = '100')\n",
      "    Concat strings\n",
      "    Concat 2 strings and save the result\n",
      "\n"
     ]
    }
   ],
   "source": [
    "concat_operation = components.load_component_from_file('config/concat_comp.yaml')\n",
    "help(concat_operation)"
   ],
   "metadata": {
    "collapsed": false,
    "pycharm": {
     "name": "#%%\n"
    }
   }
  },
  {
   "cell_type": "code",
   "execution_count": 4,
   "outputs": [
    {
     "name": "stdout",
     "output_type": "stream",
     "text": [
      "Help on function Reverse:\n",
      "\n",
      "Reverse(input_1: 'Dataset')\n",
      "    Reverse\n",
      "    Reverse a string from a file\n",
      "\n"
     ]
    }
   ],
   "source": [
    "reverse_operation = components.load_component_from_file('config/reverse_comp.yaml')\n",
    "help(reverse_operation)"
   ],
   "metadata": {
    "collapsed": false,
    "pycharm": {
     "name": "#%%\n"
    }
   }
  },
  {
   "cell_type": "code",
   "execution_count": 8,
   "outputs": [
    {
     "name": "stdout",
     "output_type": "stream",
     "text": [
      "Help on function Yaml Component:\n",
      "\n",
      "Yaml Component(hola: 'Dataset', param1: str)\n",
      "    Yaml Component\n",
      "    Yaml Component Test\n",
      "\n"
     ]
    }
   ],
   "source": [
    "metrics_operation = components.load_component_from_file('config/metrics.yaml')\n",
    "help(metrics_operation)"
   ],
   "metadata": {
    "collapsed": false,
    "pycharm": {
     "name": "#%%\n"
    }
   }
  },
  {
   "cell_type": "markdown",
   "metadata": {
    "pycharm": {
     "name": "#%% md\n"
    }
   },
   "source": [
    "## Build the Pipeline Function"
   ]
  },
  {
   "cell_type": "code",
   "execution_count": 6,
   "outputs": [],
   "source": [
    "@pipeline(\n",
    "    # A name and description for the pipeline.\n",
    "    name='poc-pipeline',\n",
    "    description='A pipeline which concatenates and reverse strings and shows metrics',\n",
    "    # Default pipeline root. You can override it when submitting the pipeline.\n",
    "    pipeline_root=PIPELINE_ROOT\n",
    ")\n",
    "def pipeline(\n",
    "    str1: str = 'Hello',\n",
    "    str2: str = 'World',\n",
    "    param1: str ='0.5',\n",
    "):\n",
    "    concat_task = concat_operation(str1,str2)\n",
    "\n",
    "    model_task = reverse_operation(\n",
    "        concat_task.output\n",
    "    )\n",
    "    metrics_task = metrics_operation(model_task.output,param1)"
   ],
   "metadata": {
    "collapsed": false,
    "pycharm": {
     "name": "#%%\n"
    }
   }
  },
  {
   "cell_type": "markdown",
   "metadata": {
    "pycharm": {
     "name": "#%% md\n"
    }
   },
   "source": [
    "## Compile the Pipeline"
   ]
  },
  {
   "cell_type": "code",
   "execution_count": 7,
   "outputs": [
    {
     "name": "stderr",
     "output_type": "stream",
     "text": [
      "D:\\Documents\\PycharmProjects\\ChiperEnv\\lib\\site-packages\\kfp\\v2\\compiler\\compiler.py:1278: FutureWarning: APIs imported from the v1 namespace (e.g. kfp.dsl, kfp.components, etc) will not be supported by the v2 compiler since v2.0.0\n",
      "  warnings.warn(\n"
     ]
    }
   ],
   "source": [
    "compiler.Compiler().compile(\n",
    "    pipeline_func=pipeline, package_path=\"config/POC_pipeline.json\"\n",
    ")"
   ],
   "metadata": {
    "collapsed": false,
    "pycharm": {
     "name": "#%%\n"
    }
   }
  },
  {
   "cell_type": "markdown",
   "metadata": {
    "pycharm": {
     "name": "#%% md\n"
    }
   },
   "source": [
    "## Create a Vertex AI Pipelines Experiment"
   ]
  },
  {
   "cell_type": "code",
   "execution_count": 8,
   "outputs": [],
   "source": [
    "credentials = service_account.Credentials.from_service_account_file(\"path_to_service_account_file\")"
   ],
   "metadata": {
    "collapsed": false,
    "pycharm": {
     "name": "#%%\n"
    }
   }
  },
  {
   "cell_type": "code",
   "execution_count": 9,
   "outputs": [],
   "source": [
    "aiplatform.init(project=PROJECT_ID, credentials=credentials)"
   ],
   "metadata": {
    "collapsed": false,
    "pycharm": {
     "name": "#%%\n"
    }
   }
  },
  {
   "cell_type": "code",
   "execution_count": 40,
   "outputs": [],
   "source": [
    "TIMESTAMP = datetime.utcnow().strftime(\"%Y-%m-%d-utc-%H-%M-%S\")"
   ],
   "metadata": {
    "collapsed": false,
    "pycharm": {
     "name": "#%%\n"
    }
   }
  },
  {
   "cell_type": "code",
   "execution_count": 43,
   "outputs": [],
   "source": [
    "run1 = aiplatform.PipelineJob(\n",
    "    display_name=\"poc-pipeline\",\n",
    "    template_path=\"config/POC_pipeline.json\",\n",
    "    job_id=\"poc-pipeline-{0}\".format(TIMESTAMP),\n",
    "    labels={\"pipeline-project-id\": \"poc-pipeline\", \"environment\": \"develop\"},\n",
    "    enable_caching=True\n",
    ")"
   ],
   "metadata": {
    "collapsed": false,
    "pycharm": {
     "name": "#%%\n"
    }
   }
  },
  {
   "cell_type": "code",
   "execution_count": 44,
   "outputs": [
    {
     "name": "stdout",
     "output_type": "stream",
     "text": [
      "INFO:google.cloud.aiplatform.pipeline_jobs:Creating PipelineJob\n",
      "INFO:google.cloud.aiplatform.pipeline_jobs:PipelineJob created. Resource name: projects/645165474319/locations/us-central1/pipelineJobs/poc-pipeline-2022-04-26-utc-18-14-19\n",
      "INFO:google.cloud.aiplatform.pipeline_jobs:To use this PipelineJob in another session:\n",
      "INFO:google.cloud.aiplatform.pipeline_jobs:pipeline_job = aiplatform.PipelineJob.get('projects/645165474319/locations/us-central1/pipelineJobs/poc-pipeline-2022-04-26-utc-18-14-19')\n",
      "INFO:google.cloud.aiplatform.pipeline_jobs:View Pipeline Job:\n",
      "https://console.cloud.google.com/vertex-ai/locations/us-central1/pipelines/runs/poc-pipeline-2022-04-26-utc-18-14-19?project=645165474319\n"
     ]
    }
   ],
   "source": [
    "run1.submit()"
   ],
   "metadata": {
    "collapsed": false,
    "pycharm": {
     "name": "#%%\n"
    }
   }
  }
 ],
 "metadata": {
  "kernelspec": {
   "name": "chiperenv",
   "language": "python",
   "display_name": "ChiperEnv"
  },
  "language_info": {
   "codemirror_mode": {
    "name": "ipython",
    "version": 3
   },
   "file_extension": ".py",
   "mimetype": "text/x-python",
   "name": "python",
   "nbconvert_exporter": "python",
   "pygments_lexer": "ipython3",
   "version": "3.8.10"
  }
 },
 "nbformat": 4,
 "nbformat_minor": 4
}